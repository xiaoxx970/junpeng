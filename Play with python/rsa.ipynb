{
  "nbformat": 4,
  "nbformat_minor": 0,
  "metadata": {
    "colab": {
      "name": "欢迎使用 Colaboratory",
      "version": "0.3.2",
      "provenance": [],
      "collapsed_sections": [],
      "toc_visible": true,
      "include_colab_link": true
    },
    "kernelspec": {
      "display_name": "Python 3",
      "name": "python3"
    }
  },
  "cells": [
    {
      "cell_type": "markdown",
      "metadata": {
        "id": "view-in-github",
        "colab_type": "text"
      },
      "source": [
        "<a href=\"https://colab.research.google.com/github/xiaoxx970/junpeng/blob/master/Play%20with%20python/rsa.ipynb\" target=\"_parent\"><img src=\"https://colab.research.google.com/assets/colab-badge.svg\" alt=\"Open In Colab\"/></a>"
      ]
    },
    {
      "cell_type": "markdown",
      "metadata": {
        "colab_type": "text",
        "id": "9J7p406abzgl"
      },
      "source": [
        "<p><img height=\"45px\" src=\"https://colab.research.google.com/img/colab_favicon.ico\" align=\"left\" hspace=\"10px\" vspace=\"0px\"></p>\n",
        "\n",
        "<h1>欢迎使用 Colaboratory！</h1>\n",
        "\n",
        "\n",
        "Colaboratory 是一个免费的 Jupyter 笔记本环境，不需要进行任何设置就可以使用，并且完全在云端运行。\n",
        "\n",
        "借助 Colaboratory，您可以编写和执行代码、保存和共享分析结果，以及利用强大的计算资源，所有这些都可通过浏览器免费使用。"
      ]
    },
    {
      "cell_type": "code",
      "metadata": {
        "cellView": "form",
        "colab_type": "code",
        "id": "xitplqMNk_Hc",
        "outputId": "ed4f60d2-878d-4056-c438-352dac39a112",
        "colab": {
          "height": 420
        }
      },
      "source": [
        "#@title Colaboratory 简介\n",
        "#@markdown 下面这个时长 3 分钟的视频概述了 Colaboratory 的主要功能：\n",
        "from IPython.display import YouTubeVideo\n",
        "YouTubeVideo('inN8seMm7UI', width=600, height=400)"
      ],
      "execution_count": 0,
      "outputs": [
        {
          "output_type": "execute_result",
          "data": {
            "text/html": [
              "\n",
              "        <iframe\n",
              "            width=\"600\"\n",
              "            height=\"400\"\n",
              "            src=\"https://www.youtube.com/embed/inN8seMm7UI\"\n",
              "            frameborder=\"0\"\n",
              "            allowfullscreen\n",
              "        ></iframe>\n",
              "        "
            ],
            "text/plain": [
              "<IPython.lib.display.YouTubeVideo at 0x7f956e9dda50>"
            ]
          },
          "metadata": {
            "tags": []
          },
          "execution_count": 0
        }
      ]
    },
    {
      "cell_type": "markdown",
      "metadata": {
        "colab_type": "text",
        "id": "GJBs_flRovLc"
      },
      "source": [
        "## 开始使用\n",
        "\n",
        "您正在阅读的文档是托管在 Colaboratory 中的 [Jupyter 笔记本](https://jupyter.org)。它并非静态页面，而是一个可让您以 Python 和其他语言编写和执行代码的互动环境。\n",
        "\n",
        "例如，以下**代码单元格**包含一个简短的 Python 脚本，该脚本会计算值、将其存储在变量中并输出结果："
      ]
    },
    {
      "cell_type": "code",
      "metadata": {
        "colab_type": "code",
        "id": "gJr_9dXGpJ05",
        "outputId": "5626194c-e802-4293-942d-2908885c3c1f",
        "colab": {
          "height": 35
        }
      },
      "source": [
        "一天的秒数 = 24 * 60 * 60\n",
        "一天的秒数"
      ],
      "execution_count": 0,
      "outputs": [
        {
          "output_type": "execute_result",
          "data": {
            "text/plain": [
              "86400"
            ]
          },
          "metadata": {
            "tags": []
          },
          "execution_count": 0
        }
      ]
    },
    {
      "cell_type": "markdown",
      "metadata": {
        "colab_type": "text",
        "id": "2fhs6GZ4qFMx"
      },
      "source": [
        "要执行上述单元格中的代码，请点击选择它，然后按代码左侧的“播放”按钮，或使用键盘快捷键“⌘/Ctrl+Enter”。\n",
        "\n",
        "所有单元格都会修改同一全局状态，因此您通过执行某个单元格定义的变量可用在其他单元格中："
      ]
    },
    {
      "cell_type": "code",
      "metadata": {
        "colab_type": "code",
        "id": "-gE-Ez1qtyIA",
        "outputId": "8d2e4259-4682-4e19-b683-7b9087f28820",
        "colab": {
          "height": 35
        }
      },
      "source": [
        "一周的秒数 = 7 * 一天的秒数\n",
        "一周的秒数"
      ],
      "execution_count": 0,
      "outputs": [
        {
          "output_type": "execute_result",
          "data": {
            "text/plain": [
              "604800"
            ]
          },
          "metadata": {
            "tags": []
          },
          "execution_count": 0
        }
      ]
    },
    {
      "cell_type": "markdown",
      "metadata": {
        "colab_type": "text",
        "id": "-Rh3-Vt9Nev9"
      },
      "source": [
        "## 更多资源\n",
        "\n",
        "要了解如何充分利用 Python、Jupyter、Colaboratory 和相关工具，请参阅以下资源：\n",
        "\n",
        "### 机器学习速成课程\n",
        "以下是可以在 Google 的在线机器学习课程中找到的部分笔记本。请查看[完整课程网站](https://developers.google.com/machine-learning/crash-course/)了解详情。\n",
        "- [Pandas 简介](/notebooks/mlcc/intro_to_pandas.ipynb)\n",
        "- [TensorFlow 编程概念](/notebooks/mlcc/tensorflow_programming_concepts.ipynb)\n",
        "- [使用 TensorFlow 的基本步骤](/notebooks/mlcc/first_steps_with_tensor_flow.ipynb)\n",
        "- [神经网络简介](/notebooks/mlcc/intro_to_neural_nets.ipynb)\n",
        "- [稀疏数据和嵌入简介](/notebooks/mlcc/intro_to_sparse_data_and_embeddings.ipynb)\n",
        "\n",
        "### 机器学习示例：Seedbank\n",
        "\n",
        "要查看 Colaboratory 实现的交互式机器学习分析的端到端示例，请查看[Seedbank](https://research.google.com/seedbank/)项目。\n",
        "\n",
        "一些精选示例：\n",
        "\n",
        "- [Neural Style Transfer](https://research.google.com/seedbank/seed/neural_style_transfer_with_tfkeras): 使用深度学习在图像之间转换风格。\n",
        "- [EZ NSynth](https://research.google.com/seedbank/seed/ez_nsynth): 使用 WaveNet 自动编码器合成音频。\n",
        "- [Fashion MNIST with Keras and TPUs](https://research.google.com/seedbank/seed/fashion_mnist_with_keras_and_tpus): 使用深度学习对时装图像进行分类。\n",
        "- [DeepDream](https://research.google.com/seedbank/seed/deepdream): 根据您自己的照片生成 DeepDream 图像。\n",
        "- [Convolutional VAE](https://research.google.com/seedbank/seed/convolutional_vae): 创建手写数字生成模型。"
      ]
    },
    {
      "cell_type": "code",
      "metadata": {
        "id": "PesUYGpxJZUE",
        "colab_type": "code",
        "colab": {
          "base_uri": "https://localhost:8080/",
          "height": 91
        },
        "outputId": "4e6046f1-d730-497d-f6f2-f6d7d97c2fdb"
      },
      "source": [
        "import rsa\n",
        "\n",
        "# 生成密钥\n",
        "(pubkey, privkey) = rsa.newkeys(1024)\n",
        "\n",
        "\n",
        "# =================================\n",
        "# 场景〇：密钥保存导入\n",
        "# =================================\n",
        "# 保存密钥\n",
        "with open('public.pem','w+') as f:\n",
        "    f.write(pubkey.save_pkcs1().decode())\n",
        "\n",
        "with open('private.pem','w+') as f:\n",
        "    f.write(privkey.save_pkcs1().decode())\n",
        "\n",
        "\n",
        "# 导入密钥\n",
        "with open('public.pem','r') as f:\n",
        "    pubkey = rsa.PublicKey.load_pkcs1(f.read().encode())\n",
        "\n",
        "with open('private.pem','r') as f:\n",
        "    privkey = rsa.PrivateKey.load_pkcs1(f.read().encode())\n",
        "\n",
        "# 明文：业务员发现的商机\n",
        "message = '16230215'\n",
        "\n",
        "# 得到密文\n",
        "crypto_email_text = rsa.encrypt(message.encode(), pubkey)\n",
        "\n",
        "# 发送密文\n",
        "# 。。。\n",
        "\n",
        "\n",
        "# 密文如下\n",
        "print(crypto_email_text) \n",
        "\n",
        "\n",
        "# 最后，公司经理也收到了业务员们发了的email。打开，也只看到一堆奇怪的字符！\n",
        "# 没问题，公司经理用自己的私钥对收到的密文进行解密，就可得到明文\n",
        "message = rsa.decrypt(crypto_email_text, privkey).decode()\n",
        "\n",
        "# 然后，就可以看到重要的商机信息了\n",
        "print(message)\n",
        "\n",
        "\n",
        "# =================================\n",
        "# 场景二：身份确认问题\n",
        "# 为了开拓市场，公司经理分派了一群业务员到各地考察商机。\n",
        "# 在这过程中，公司经理常常通过email向业务员下达重要指令\n",
        "# 然而，网络是及其不安全的！譬如：数据包被修改、邮箱密码泄露...\n",
        "# 商业竞争对手可以通过各种手段伪造/修改公司经理的重要指令！\n",
        "# \n",
        "# 话说这天早上，业务员照常打开邮箱，发现公司经理的一封email：命令他马上回国。\n",
        "# 不对啊。昨天说要在这边扩大业务，怎么今天就变了？\n",
        "# 这封email是公司经理本人发的吗？\n",
        "# 怎么办？\n",
        "# \n",
        "# 没错！聪明的您一定也想到了：签名。\n",
        "# =================================\n",
        "\n",
        "# 明文：公司经理的指令\n",
        "message = '这是重要指令：...'\n",
        "\n",
        "# 公司经理私钥签名\n",
        "crypto_email_text = rsa.sign(message.encode(), privkey, 'SHA-256')\n",
        "\n",
        "# 业务员同时收到指令明文、密文，然后用公钥验证，进行身份确认\n",
        "rsa.verify(message.encode(), crypto_email_text, pubkey)"
      ],
      "execution_count": 1,
      "outputs": [
        {
          "output_type": "stream",
          "text": [
            "b\"S\\x7f\\x12\\xb9\\x00\\x1d\\xd4 \\xe7\\x08\\xe8l\\xb8\\xe2\\x1e\\xed\\xcd\\x89u\\t\\xdb\\xff\\x92\\xd1(\\xb7\\x06\\xa8\\xac\\x86\\x8ar\\x1fq\\xf4`\\x8b\\xf9\\x0e'\\xf8\\xc8\\xbe\\xc8^\\x88\\xa4S\\xff\\xa7l\\xb0\\xb0\\xb0w$\\x17`\\x13\\xfea\\xab3W\\n\\xd6M\\xce\\x8b\\x94\\xb8\\xc0\\\\\\xf5\\xfbf)\\xa1p6j@\\xaa\\xd57\\x04\\xaf\\xbe\\xfd\\xdcn\\x8f\\r\\x0f\\xbe\\\\\\x1e\\xf5\\xb1\\xd1M\\xde\\xcd\\xdf\\x07\\xe6,s\\x02\\x89\\xcb\\x9f\\xa8\\xcc\\xa8\\x0c\\x87IC\\x1d\\xc1\\xc4+\\xc6\\x8d\\x055\\x15\"\n",
            "这是商机1111：...\n"
          ],
          "name": "stdout"
        },
        {
          "output_type": "execute_result",
          "data": {
            "text/plain": [
              "'SHA-256'"
            ]
          },
          "metadata": {
            "tags": []
          },
          "execution_count": 1
        }
      ]
    },
    {
      "cell_type": "markdown",
      "metadata": {
        "id": "q2sud-MNKNgL",
        "colab_type": "text"
      },
      "source": [
        "##  第一步：加密"
      ]
    },
    {
      "cell_type": "code",
      "metadata": {
        "id": "VvEbJmgZJ1iE",
        "colab_type": "code",
        "colab": {
          "base_uri": "https://localhost:8080/",
          "height": 55
        },
        "outputId": "4eda6626-5bff-41ff-a95d-1f3b9b096185"
      },
      "source": [
        "import rsa\n",
        "\n",
        "# 生成密钥\n",
        "(pubkey, privkey) = rsa.newkeys(1024)\n",
        "\n",
        "\n",
        "with open('public.pem','w+') as f:\n",
        "    f.write(pubkey.save_pkcs1().decode())\n",
        "\n",
        "with open('private.pem','w+') as f:\n",
        "    f.write(privkey.save_pkcs1().decode())\n",
        "\n",
        "\n",
        "# 导入密钥\n",
        "with open('public.pem','r') as f:\n",
        "    pubkey = rsa.PublicKey.load_pkcs1(f.read().encode())\n",
        "\n",
        "with open('private.pem','r') as f:\n",
        "    privkey = rsa.PrivateKey.load_pkcs1(f.read().encode())\n",
        "\n",
        "# 明文：16230230\n",
        "message = '1623023016230230'\n",
        "\n",
        "# 得到密文\n",
        "crypto_email_text = rsa.encrypt(message.encode(), pubkey)\n",
        "\n",
        "# 发送密文\n",
        "# 。。。\n",
        "\n",
        "\n",
        "# 密文如下\n",
        "print(crypto_email_text) "
      ],
      "execution_count": 10,
      "outputs": [
        {
          "output_type": "stream",
          "text": [
            "b'\\x11\\x9dMw\\xa0q.c\\x7f\\x7f\\xa9\\xec\\x05\\x8c\\x12\\x15\\xe4\\xe5\\x80\\xe3i#f6\\x18(\\xfb-h~\\x08$\\xfc6W\\x04\\x08?\\xe5\\xb7\\xd1Z\\x8b\\xad/\\xc4\\xd2#\\x85\\xacy\\x98\\x87p9\\x82\\x16\\x96R\\xcdd\\xef>\\x9b\\xb1\\x98\\xd9\\xa2\\xe9\\x95\\x02\\xa4\\xe4\\x96\\x84\\xc6\\xcdP\\xd0\\xe2 \\x87Q\\xf8A\\x8eL\\x9a\\x83b\\xd4\\x9d\\xd0?\\x8e\\x9e\\xff\\x8b^\\x8cN\\xee\\xa9\\x12i\\x93\\xaar\\xb6\\xbf\\x7f\"\\x04\\x05\\xd9\\xb0rg\\x00\\xb8J\\xf3\\xbc\\xaaTqu}'\n"
          ],
          "name": "stdout"
        }
      ]
    },
    {
      "cell_type": "markdown",
      "metadata": {
        "id": "BOYv_5WOJ-FR",
        "colab_type": "text"
      },
      "source": [
        "##  第二步：解密"
      ]
    },
    {
      "cell_type": "code",
      "metadata": {
        "id": "bW_yyZXnJ9Cn",
        "colab_type": "code",
        "colab": {
          "base_uri": "https://localhost:8080/",
          "height": 35
        },
        "outputId": "b3649da9-db6d-4e70-8016-0a45c71e1e17"
      },
      "source": [
        "message = rsa.decrypt(crypto_email_text, privkey).decode()\n",
        "\n",
        "# 解密后信息如下\n",
        "print(message)"
      ],
      "execution_count": 11,
      "outputs": [
        {
          "output_type": "stream",
          "text": [
            "1623023016230230\n"
          ],
          "name": "stdout"
        }
      ]
    }
  ]
}