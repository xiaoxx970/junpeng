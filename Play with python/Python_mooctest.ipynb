{
 "cells": [
  {
   "cell_type": "markdown",
   "metadata": {},
   "source": [
    "判断输入0~9中数字的个数"
   ]
  },
  {
   "cell_type": "code",
   "execution_count": 2,
   "metadata": {},
   "outputs": [
    {
     "name": "stdin",
     "output_type": "stream",
     "text": [
      " 112233445566\n"
     ]
    },
    {
     "name": "stdout",
     "output_type": "stream",
     "text": [
      "[0, 2, 2, 2, 2, 2, 2, 0, 0, 0]\n"
     ]
    }
   ],
   "source": [
    "a = input()\n",
    "p = [0,1,2,3,4,5,6,7,8,9]\n",
    "out = []\n",
    "for i in p:\n",
    "    out.append(a.count(str(i)))\n",
    "print(out)"
   ]
  },
  {
   "cell_type": "markdown",
   "metadata": {},
   "source": [
    "输入字符大写转小写，小写转大写"
   ]
  },
  {
   "cell_type": "code",
   "execution_count": 7,
   "metadata": {},
   "outputs": [
    {
     "name": "stdin",
     "output_type": "stream",
     "text": [
      " a\n"
     ]
    },
    {
     "name": "stdout",
     "output_type": "stream",
     "text": [
      "a\n"
     ]
    }
   ],
   "source": [
    "a = input()\n",
    "out = str()\n",
    "for i in a:\n",
    "    if i < \"a\":    \n",
    "        i = i.lower()\n",
    "    elif i > \"Z\":\n",
    "        i = i.upper()\n",
    "    out+=i\n",
    "print(out)"
   ]
  },
  {
   "cell_type": "code",
   "execution_count": null,
   "metadata": {},
   "outputs": [],
   "source": []
  }
 ],
 "metadata": {
  "kernelspec": {
   "display_name": "Python (tf2.0)",
   "language": "python",
   "name": "tf2.0"
  },
  "language_info": {
   "codemirror_mode": {
    "name": "ipython",
    "version": 3
   },
   "file_extension": ".py",
   "mimetype": "text/x-python",
   "name": "python",
   "nbconvert_exporter": "python",
   "pygments_lexer": "ipython3",
<<<<<<< HEAD
   "version": "3.7.3"
=======
   "version": "3.6.8"
>>>>>>> e2b15295d8bbb2308291420fa3a3c93891f35f8f
  }
 },
 "nbformat": 4,
 "nbformat_minor": 2
}
