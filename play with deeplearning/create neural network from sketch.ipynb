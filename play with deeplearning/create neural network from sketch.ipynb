{
 "cells": [
  {
   "cell_type": "code",
   "execution_count": 1,
   "metadata": {},
   "outputs": [
    {
     "name": "stderr",
     "output_type": "stream",
     "text": [
      "C:\\ProgramData\\Anaconda3\\envs\\faceswap\\lib\\site-packages\\ipykernel\\parentpoller.py:116: UserWarning: Parent poll failed.  If the frontend dies,\n",
      "                the kernel may be left running.  Please let us know\n",
      "                about your system (bitness, Python, etc.) at\n",
      "                ipython-dev@scipy.org\n",
      "  ipython-dev@scipy.org\"\"\")\n"
     ]
    }
   ],
   "source": [
    "import numpy as np\n",
    "import tensorflow as tf"
   ]
  },
  {
   "cell_type": "code",
   "execution_count": 2,
   "metadata": {},
   "outputs": [],
   "source": [
    "def initlize(dim):\n",
    "    w = np.random.randn(dim,1)*0.01\n",
    "    b = 0\n",
    "    return w, b"
   ]
  },
  {
   "cell_type": "code",
   "execution_count": 3,
   "metadata": {},
   "outputs": [],
   "source": [
    "w,b = initlize(5)"
   ]
  },
  {
   "cell_type": "code",
   "execution_count": 9,
   "metadata": {},
   "outputs": [
    {
     "name": "stdout",
     "output_type": "stream",
     "text": [
      "Tensor(\"Relu_3:0\", shape=(), dtype=int32)\n"
     ]
    }
   ],
   "source": [
    "print(tf.nn.relu(10))"
   ]
  },
  {
   "cell_type": "code",
   "execution_count": null,
   "metadata": {},
   "outputs": [],
   "source": [
    "from __future__ import print_function\n",
    "import keras\n",
    "from keras.datasets import mnist\n",
    "from keras.models import Sequential\n",
    "from keras.layers import Dense, Dropout, Flatten\n",
    "from keras.layers import Conv2D, MaxPooling2D\n",
    "from keras import backend as K\n",
    "\n",
    "batch_size = 128\n",
    "num_classes = 10\n",
    "epochs = 12\n",
    "\n",
    "# input image dimensions\n",
    "img_rows, img_cols = 28, 28\n",
    "\n",
    "# the data, split between train and test sets\n",
    "(x_train, y_train), (x_test, y_test) = mnist.load_data()\n",
    "\n",
    "if K.image_data_format() == 'channels_first':\n",
    "    x_train = x_train.reshape(x_train.shape[0], 1, img_rows, img_cols)\n",
    "    x_test = x_test.reshape(x_test.shape[0], 1, img_rows, img_cols)\n",
    "    input_shape = (1, img_rows, img_cols)\n",
    "else:\n",
    "    x_train = x_train.reshape(x_train.shape[0], img_rows, img_cols, 1)\n",
    "    x_test = x_test.reshape(x_test.shape[0], img_rows, img_cols, 1)\n",
    "    input_shape = (img_rows, img_cols, 1)\n",
    "\n",
    "x_train = x_train.astype('float32')\n",
    "x_test = x_test.astype('float32')\n",
    "x_train /= 255\n",
    "x_test /= 255\n",
    "print('x_train shape:', x_train.shape)\n",
    "print(x_train.shape[0], 'train samples')\n",
    "print(x_test.shape[0], 'test samples')\n",
    "\n",
    "# convert class vectors to binary class matrices\n",
    "y_train = keras.utils.to_categorical(y_train, num_classes)\n",
    "y_test = keras.utils.to_categorical(y_test, num_classes)\n",
    "\n",
    "model = Sequential()\n",
    "model.add(Conv2D(32, kernel_size=(3, 3),\n",
    "                 activation='relu',\n",
    "                 input_shape=input_shape))\n",
    "model.add(Conv2D(64, (3, 3), activation='relu'))\n",
    "model.add(MaxPooling2D(pool_size=(2, 2)))\n",
    "model.add(Dropout(0.25))\n",
    "model.add(Flatten())\n",
    "model.add(Dense(128, activation='relu'))\n",
    "model.add(Dropout(0.5))\n",
    "model.add(Dense(num_classes, activation='softmax'))\n",
    "\n",
    "model.compile(loss=keras.losses.categorical_crossentropy,\n",
    "              optimizer=keras.optimizers.Adadelta(),\n",
    "              metrics=['accuracy'])\n",
    "\n",
    "model.fit(x_train, y_train,\n",
    "          batch_size=batch_size,\n",
    "          epochs=epochs,\n",
    "          verbose=1,\n",
    "          validation_data=(x_test, y_test))\n",
    "score = model.evaluate(x_test, y_test, verbose=0)\n",
    "print('Test loss:', score[0])\n",
    "print('Test accuracy:', score[1])"
   ]
  },
  {
   "cell_type": "markdown",
   "metadata": {},
   "source": [
    "# 线性回归"
   ]
  },
  {
   "cell_type": "code",
   "execution_count": 2,
   "metadata": {},
   "outputs": [],
   "source": [
    "import tensorflow as tf\n",
    "from tensorflow import keras\n",
    "import pandas as pd\n",
    "import numpy as np\n",
    "import matplotlib.pyplot as plt\n",
    "%matplotlib inline"
   ]
  },
  {
   "cell_type": "code",
   "execution_count": 15,
   "metadata": {},
   "outputs": [
    {
     "data": {
      "text/plain": [
       "<matplotlib.collections.PathCollection at 0x2cfea7d3208>"
      ]
     },
     "execution_count": 15,
     "metadata": {},
     "output_type": "execute_result"
    },
    {
     "data": {
      "image/png": "[encoded data removed]",
      "text/plain": [
       "<Figure size 432x288 with 1 Axes>"
      ]
     },
     "metadata": {
      "needs_background": "light"
     },
     "output_type": "display_data"
    }
   ],
   "source": [
    "data = pd.read_csv('data/Income1.csv')\n",
    "x = data.Education\n",
    "y = data.Income\n",
    "plt.scatter(x,y)"
   ]
  },
  {
   "cell_type": "code",
   "execution_count": 16,
   "metadata": {},
   "outputs": [],
   "source": [
    "model = keras.Sequential()\n",
    "\n",
    "model.add(keras.layers.Dense(1,input_shape=(1,)))\n",
    "model.compile(optimizer='adam',\n",
    "              loss='mse'#meansqualerror\n",
    ")"
   ]
  },
  {
   "cell_type": "code",
   "execution_count": null,
   "metadata": {},
   "outputs": [],
   "source": [
    "history = model.fit(x, y, epochs=1000)"
   ]
  },
  {
   "cell_type": "code",
   "execution_count": 7,
   "metadata": {},
   "outputs": [
    {
     "name": "stdout",
     "output_type": "stream",
     "text": [
      "_________________________________________________________________\n",
      "Layer (type)                 Output Shape              Param #   \n",
      "=================================================================\n",
      "dense_2 (Dense)              (None, 1)                 2         \n",
      "=================================================================\n",
      "Total params: 2\n",
      "Trainable params: 2\n",
      "Non-trainable params: 0\n",
      "_________________________________________________________________\n"
     ]
    }
   ],
   "source": [
    "model.summary()"
   ]
  },
  {
   "cell_type": "code",
   "execution_count": 20,
   "metadata": {},
   "outputs": [
    {
     "data": {
      "text/plain": [
       "array([[30.785736]], dtype=float32)"
      ]
     },
     "execution_count": 20,
     "metadata": {},
     "output_type": "execute_result"
    }
   ],
   "source": [
    "model.predict([20])"
   ]
  },
  {
   "cell_type": "markdown",
   "metadata": {},
   "source": [
    "# 多层感知器"
   ]
  },
  {
   "cell_type": "code",
   "execution_count": 2,
   "metadata": {},
   "outputs": [],
   "source": [
    "data = pd.read_csv('data/Advertising.csv')\n",
    "x = data.iloc[:, 1:-1]\n",
    "y = data.iloc[:, -1]"
   ]
  },
  {
   "cell_type": "code",
   "execution_count": 3,
   "metadata": {},
   "outputs": [
    {
     "name": "stdout",
     "output_type": "stream",
     "text": [
      "_________________________________________________________________\n",
      "Layer (type)                 Output Shape              Param #   \n",
      "=================================================================\n",
      "dense_1 (Dense)              (None, 10)                40        \n",
      "_________________________________________________________________\n",
      "dense_2 (Dense)              (None, 1)                 11        \n",
      "=================================================================\n",
      "Total params: 51\n",
      "Trainable params: 51\n",
      "Non-trainable params: 0\n",
      "_________________________________________________________________\n"
     ]
    }
   ],
   "source": [
    "model = keras.Sequential([\n",
    "    keras.layers.Dense(10, input_shape=(3,),activation='relu'),\n",
    "    keras.layers.Dense(1)]\n",
    ")\n",
    "model.summary()"
   ]
  },
  {
   "cell_type": "code",
   "execution_count": null,
   "metadata": {},
   "outputs": [],
   "source": [
    "model.compile(optimizer='adam',\n",
    "             loss='mse')\n",
    "model.fit(x,y,epochs=100)"
   ]
  },
  {
   "cell_type": "code",
   "execution_count": 7,
   "metadata": {},
   "outputs": [
    {
     "data": {
      "text/plain": [
       "array([[22.553308 ],\n",
       "       [11.790729 ],\n",
       "       [ 8.702582 ],\n",
       "       [19.396122 ],\n",
       "       [12.957434 ],\n",
       "       [ 7.8257427],\n",
       "       [10.825126 ],\n",
       "       [12.048535 ],\n",
       "       [ 2.2187   ],\n",
       "       [10.996424 ]], dtype=float32)"
      ]
     },
     "execution_count": 7,
     "metadata": {},
     "output_type": "execute_result"
    }
   ],
   "source": [
    "test = data.iloc[:10, 1:-1]\n",
    "model.predict(test)"
   ]
  },
  {
   "cell_type": "markdown",
   "metadata": {},
   "source": [
    "# 逻辑回归（以信用卡欺诈为例）"
   ]
  },
  {
   "cell_type": "code",
   "execution_count": 8,
   "metadata": {},
   "outputs": [],
   "source": [
    "data = pd.read_csv('data/credit-a.csv',header=None)"
   ]
  },
  {
   "cell_type": "code",
   "execution_count": 9,
   "metadata": {},
   "outputs": [],
   "source": [
    "x = data.iloc[:, :-1]\n",
    "y = data.iloc[:,-1].replace(-1,0)"
   ]
  },
  {
   "cell_type": "code",
   "execution_count": 18,
   "metadata": {},
   "outputs": [
    {
     "data": {
      "text/plain": [
       "1    357\n",
       "0    296\n",
       "Name: 15, dtype: int64"
      ]
     },
     "execution_count": 18,
     "metadata": {},
     "output_type": "execute_result"
    }
   ],
   "source": [
    "y.value_counts()"
   ]
  },
  {
   "cell_type": "code",
   "execution_count": 50,
   "metadata": {},
   "outputs": [
    {
     "name": "stdout",
     "output_type": "stream",
     "text": [
      "_________________________________________________________________\n",
      "Layer (type)                 Output Shape              Param #   \n",
      "=================================================================\n",
      "dense_4 (Dense)              (None, 110)               1760      \n",
      "_________________________________________________________________\n",
      "dense_5 (Dense)              (None, 10)                1110      \n",
      "_________________________________________________________________\n",
      "dense_6 (Dense)              (None, 4)                 44        \n",
      "_________________________________________________________________\n",
      "dense_7 (Dense)              (None, 1)                 5         \n",
      "=================================================================\n",
      "Total params: 2,919\n",
      "Trainable params: 2,919\n",
      "Non-trainable params: 0\n",
      "_________________________________________________________________\n"
     ]
    }
   ],
   "source": [
    "model = keras.Sequential([\n",
    "    keras.layers.Dense(110, input_shape=(15,), activation='relu'),\n",
    "    keras.layers.Dense(10, activation='relu'),\n",
    "    keras.layers.Dense(4, activation='relu'),\n",
    "    keras.layers.Dense(1, activation='sigmoid')\n",
    "])\n",
    "model.summary()"
   ]
  },
  {
   "cell_type": "code",
   "execution_count": 37,
   "metadata": {},
   "outputs": [
    {
     "name": "stdout",
     "output_type": "stream",
     "text": [
      "Epoch 1/10\n",
      "653/653 [==============================] - 1s 2ms/step - loss: 6.0032 - acc: 0.5467\n",
      "Epoch 2/10\n",
      "653/653 [==============================] - 0s 196us/step - loss: 3.1017 - acc: 0.5743\n",
      "Epoch 3/10\n",
      "653/653 [==============================] - 0s 198us/step - loss: 0.6577 - acc: 0.6799\n",
      "Epoch 4/10\n",
      "653/653 [==============================] - 0s 216us/step - loss: 0.6540 - acc: 0.6845\n",
      "Epoch 5/10\n",
      "653/653 [==============================] - 0s 223us/step - loss: 0.6543 - acc: 0.6753\n",
      "Epoch 6/10\n",
      "653/653 [==============================] - 0s 209us/step - loss: 0.6506 - acc: 0.6784\n",
      "Epoch 7/10\n",
      "653/653 [==============================] - 0s 172us/step - loss: 0.6452 - acc: 0.6876\n",
      "Epoch 8/10\n",
      "653/653 [==============================] - 0s 175us/step - loss: 0.6439 - acc: 0.6861\n",
      "Epoch 9/10\n",
      "653/653 [==============================] - 0s 187us/step - loss: 0.6400 - acc: 0.6876\n",
      "Epoch 10/10\n",
      "653/653 [==============================] - 0s 201us/step - loss: 0.6390 - acc: 0.6830\n"
     ]
    }
   ],
   "source": [
    "model.compile(optimizer='adam',\n",
    "             loss='binary_crossentropy',\n",
    "             metrics=['acc'])\n",
    "history = model.fit(x, y, epochs=10, verbose=1)"
   ]
  },
  {
   "cell_type": "code",
   "execution_count": 19,
   "metadata": {},
   "outputs": [
    {
     "data": {
      "text/plain": [
       "dict_keys(['loss', 'acc'])"
      ]
     },
     "execution_count": 19,
     "metadata": {},
     "output_type": "execute_result"
    }
   ],
   "source": [
    "history.history.keys()"
   ]
  },
  {
   "cell_type": "code",
   "execution_count": 39,
   "metadata": {},
   "outputs": [
    {
     "data": {
      "text/plain": [
       "[<matplotlib.lines.Line2D at 0x1540be0e400>]"
      ]
     },
     "execution_count": 39,
     "metadata": {},
     "output_type": "execute_result"
    },
    {
     "data": {
      "image/png": "[encoded data removed]",
      "text/plain": [
       "<Figure size 432x288 with 1 Axes>"
      ]
     },
     "metadata": {
      "needs_background": "light"
     },
     "output_type": "display_data"
    }
   ],
   "source": [
    "#plt.plot(history.epoch, history.history.get(\"loss\"))\n",
    "plt.plot(history.epoch, history.history.get(\"acc\"))"
   ]
  },
  {
   "cell_type": "code",
   "execution_count": 14,
   "metadata": {},
   "outputs": [
    {
     "data": {
      "text/plain": [
       "array([[0.68399346]], dtype=float32)"
      ]
     },
     "execution_count": 14,
     "metadata": {},
     "output_type": "execute_result"
    }
   ],
   "source": [
    "model.predict(x[:1])"
   ]
  },
  {
   "cell_type": "markdown",
   "metadata": {},
   "source": [
    "# 多分类问题：softmax"
   ]
  },
  {
   "cell_type": "code",
   "execution_count": 2,
   "metadata": {},
   "outputs": [],
   "source": [
    "(train_image, train_lable), (test_image, test_lable) = keras.datasets.fashion_mnist.load_data()"
   ]
  },
  {
   "cell_type": "code",
   "execution_count": 3,
   "metadata": {},
   "outputs": [
    {
     "data": {
      "text/plain": [
       "(60000,)"
      ]
     },
     "execution_count": 3,
     "metadata": {},
     "output_type": "execute_result"
    }
   ],
   "source": [
    "train_lable.shape"
   ]
  },
  {
   "cell_type": "code",
   "execution_count": 4,
   "metadata": {},
   "outputs": [],
   "source": [
    "train_image = train_image/255\n",
    "test_image = test_image/255"
   ]
  },
  {
   "cell_type": "code",
   "execution_count": 75,
   "metadata": {},
   "outputs": [],
   "source": [
    "model = keras.Sequential()\n",
    "model.add(keras.layers.Flatten(input_shape=(28,28)))\n",
    "model.add(keras.layers.Dense(128, activation='relu'))\n",
    "model.add(keras.layers.Dense(10, activation='softmax'))"
   ]
  },
  {
   "cell_type": "code",
   "execution_count": 78,
   "metadata": {},
   "outputs": [],
   "source": [
    "model.compile(optimizer='adam',\n",
    "             loss='sparse_categorical_crossentropy',#用于连续编码而非one hot编码的情况\n",
    "             metrics=['acc']\n",
    ")"
   ]
  },
  {
   "cell_type": "code",
   "execution_count": 79,
   "metadata": {
    "scrolled": true
   },
   "outputs": [
    {
     "name": "stdout",
     "output_type": "stream",
     "text": [
      "Epoch 1/100\n",
      "60000/60000 [==============================] - 27s 452us/step - loss: 0.5089 - acc: 0.8208\n",
      "Epoch 2/100\n",
      "60000/60000 [==============================] - 12s 198us/step - loss: 0.3770 - acc: 0.8646\n",
      "Epoch 3/100\n",
      "60000/60000 [==============================] - 12s 192us/step - loss: 0.3394 - acc: 0.8766\n",
      "Epoch 4/100\n",
      "60000/60000 [==============================] - 11s 190us/step - loss: 0.3115 - acc: 0.8855\n",
      "Epoch 5/100\n",
      "60000/60000 [==============================] - 12s 200us/step - loss: 0.2956 - acc: 0.8914\n",
      "Epoch 6/100\n",
      "60000/60000 [==============================] - 12s 193us/step - loss: 0.2813 - acc: 0.8963\n",
      "Epoch 7/100\n",
      "60000/60000 [==============================] - 12s 196us/step - loss: 0.2679 - acc: 0.9002\n",
      "Epoch 8/100\n",
      "60000/60000 [==============================] - 13s 209us/step - loss: 0.2556 - acc: 0.9049\n",
      "Epoch 9/100\n",
      "60000/60000 [==============================] - 12s 194us/step - loss: 0.2473 - acc: 0.9076\n",
      "Epoch 10/100\n",
      "60000/60000 [==============================] - 12s 204us/step - loss: 0.2365 - acc: 0.9117\n",
      "Epoch 11/100\n",
      "60000/60000 [==============================] - 12s 200us/step - loss: 0.2310 - acc: 0.9137\n",
      "Epoch 12/100\n",
      "60000/60000 [==============================] - 12s 194us/step - loss: 0.2243 - acc: 0.9158\n",
      "Epoch 13/100\n",
      "60000/60000 [==============================] - 12s 204us/step - loss: 0.2164 - acc: 0.9191\n",
      "Epoch 14/100\n",
      "60000/60000 [==============================] - 12s 197us/step - loss: 0.2106 - acc: 0.9211\n",
      "Epoch 15/100\n",
      "60000/60000 [==============================] - 12s 207us/step - loss: 0.2038 - acc: 0.9245\n",
      "Epoch 16/100\n",
      "60000/60000 [==============================] - 12s 204us/step - loss: 0.1985 - acc: 0.9257\n",
      "Epoch 17/100\n",
      "60000/60000 [==============================] - 13s 221us/step - loss: 0.1924 - acc: 0.9280\n",
      "Epoch 18/100\n",
      "60000/60000 [==============================] - 13s 225us/step - loss: 0.1868 - acc: 0.9296\n",
      "Epoch 19/100\n",
      "60000/60000 [==============================] - 14s 238us/step - loss: 0.1812 - acc: 0.9316\n",
      "Epoch 20/100\n",
      "60000/60000 [==============================] - 14s 229us/step - loss: 0.1776 - acc: 0.9330\n",
      "Epoch 21/100\n",
      "60000/60000 [==============================] - 13s 222us/step - loss: 0.1760 - acc: 0.9336\n",
      "Epoch 22/100\n",
      "60000/60000 [==============================] - 13s 216us/step - loss: 0.1686 - acc: 0.9367\n",
      "Epoch 23/100\n",
      "60000/60000 [==============================] - 13s 219us/step - loss: 0.1653 - acc: 0.9379\n",
      "Epoch 24/100\n",
      "60000/60000 [==============================] - 13s 210us/step - loss: 0.1621 - acc: 0.9391\n",
      "Epoch 25/100\n",
      "60000/60000 [==============================] - 12s 202us/step - loss: 0.1595 - acc: 0.9396\n",
      "Epoch 26/100\n",
      "60000/60000 [==============================] - 12s 195us/step - loss: 0.1549 - acc: 0.9415\n",
      "Epoch 27/100\n",
      "60000/60000 [==============================] - 12s 196us/step - loss: 0.1514 - acc: 0.9444\n",
      "Epoch 28/100\n",
      "60000/60000 [==============================] - 11s 188us/step - loss: 0.1484 - acc: 0.9439\n",
      "Epoch 29/100\n",
      "60000/60000 [==============================] - 11s 182us/step - loss: 0.1453 - acc: 0.9446\n",
      "Epoch 30/100\n",
      "60000/60000 [==============================] - 11s 179us/step - loss: 0.1413 - acc: 0.9471\n",
      "Epoch 31/100\n",
      "60000/60000 [==============================] - 10s 173us/step - loss: 0.1385 - acc: 0.9477\n",
      "Epoch 32/100\n",
      "60000/60000 [==============================] - 10s 170us/step - loss: 0.1365 - acc: 0.9498\n",
      "Epoch 33/100\n",
      "60000/60000 [==============================] - 10s 170us/step - loss: 0.1329 - acc: 0.9498\n",
      "Epoch 34/100\n",
      "60000/60000 [==============================] - 10s 168us/step - loss: 0.1327 - acc: 0.9505\n",
      "Epoch 35/100\n",
      "60000/60000 [==============================] - 10s 167us/step - loss: 0.1282 - acc: 0.9516\n",
      "Epoch 36/100\n",
      "60000/60000 [==============================] - 10s 168us/step - loss: 0.1260 - acc: 0.9538\n",
      "Epoch 37/100\n",
      "60000/60000 [==============================] - 11s 183us/step - loss: 0.1243 - acc: 0.9524\n",
      "Epoch 38/100\n",
      "60000/60000 [==============================] - 10s 175us/step - loss: 0.1212 - acc: 0.9544\n",
      "Epoch 39/100\n",
      "60000/60000 [==============================] - 10s 167us/step - loss: 0.1196 - acc: 0.9554\n",
      "Epoch 40/100\n",
      "60000/60000 [==============================] - 10s 168us/step - loss: 0.1171 - acc: 0.9558\n",
      "Epoch 41/100\n",
      "60000/60000 [==============================] - 10s 164us/step - loss: 0.1168 - acc: 0.9558\n",
      "Epoch 42/100\n",
      "60000/60000 [==============================] - 10s 170us/step - loss: 0.1114 - acc: 0.9575\n",
      "Epoch 43/100\n",
      "60000/60000 [==============================] - 10s 168us/step - loss: 0.1109 - acc: 0.9578\n",
      "Epoch 44/100\n",
      "60000/60000 [==============================] - 10s 168us/step - loss: 0.1092 - acc: 0.9590\n",
      "Epoch 45/100\n",
      "60000/60000 [==============================] - 10s 167us/step - loss: 0.1071 - acc: 0.9594\n",
      "Epoch 46/100\n",
      "60000/60000 [==============================] - 10s 169us/step - loss: 0.1041 - acc: 0.9609\n",
      "Epoch 47/100\n",
      "60000/60000 [==============================] - 10s 170us/step - loss: 0.1059 - acc: 0.9601\n",
      "Epoch 48/100\n",
      "60000/60000 [==============================] - 10s 168us/step - loss: 0.0997 - acc: 0.9627\n",
      "Epoch 49/100\n",
      "60000/60000 [==============================] - 10s 167us/step - loss: 0.0999 - acc: 0.9618\n",
      "Epoch 50/100\n",
      "60000/60000 [==============================] - 10s 167us/step - loss: 0.0972 - acc: 0.9641\n",
      "Epoch 51/100\n",
      "60000/60000 [==============================] - 10s 167us/step - loss: 0.0980 - acc: 0.9632\n",
      "Epoch 52/100\n",
      "60000/60000 [==============================] - 10s 167us/step - loss: 0.0935 - acc: 0.9650\n",
      "Epoch 53/100\n",
      "60000/60000 [==============================] - 10s 169us/step - loss: 0.0925 - acc: 0.9653\n",
      "Epoch 54/100\n",
      "60000/60000 [==============================] - 9s 156us/step - loss: 0.0927 - acc: 0.9653\n",
      "Epoch 55/100\n",
      "60000/60000 [==============================] - 9s 157us/step - loss: 0.0898 - acc: 0.9659\n",
      "Epoch 56/100\n",
      "60000/60000 [==============================] - 9s 155us/step - loss: 0.0895 - acc: 0.9663\n",
      "Epoch 57/100\n",
      "60000/60000 [==============================] - 9s 152us/step - loss: 0.0871 - acc: 0.9671\n",
      "Epoch 58/100\n",
      "60000/60000 [==============================] - 9s 152us/step - loss: 0.0863 - acc: 0.9673\n",
      "Epoch 59/100\n",
      "60000/60000 [==============================] - 9s 154us/step - loss: 0.0849 - acc: 0.9680\n",
      "Epoch 60/100\n",
      "60000/60000 [==============================] - 9s 155us/step - loss: 0.0837 - acc: 0.9689\n",
      "Epoch 61/100\n",
      "60000/60000 [==============================] - 9s 154us/step - loss: 0.0833 - acc: 0.9686\n",
      "Epoch 62/100\n",
      "60000/60000 [==============================] - 9s 154us/step - loss: 0.0801 - acc: 0.9700\n",
      "Epoch 63/100\n",
      "60000/60000 [==============================] - 9s 156us/step - loss: 0.0837 - acc: 0.9685\n",
      "Epoch 64/100\n",
      "60000/60000 [==============================] - 9s 156us/step - loss: 0.0782 - acc: 0.9707\n",
      "Epoch 65/100\n",
      "60000/60000 [==============================] - 9s 155us/step - loss: 0.0778 - acc: 0.9707\n",
      "Epoch 66/100\n",
      "60000/60000 [==============================] - 9s 155us/step - loss: 0.0755 - acc: 0.9714\n",
      "Epoch 67/100\n",
      "60000/60000 [==============================] - 9s 156us/step - loss: 0.0763 - acc: 0.9715\n",
      "Epoch 68/100\n",
      "60000/60000 [==============================] - 9s 155us/step - loss: 0.0748 - acc: 0.9719\n",
      "Epoch 69/100\n",
      "60000/60000 [==============================] - 9s 157us/step - loss: 0.0726 - acc: 0.9725\n",
      "Epoch 70/100\n",
      "60000/60000 [==============================] - 9s 155us/step - loss: 0.0729 - acc: 0.9722\n",
      "Epoch 71/100\n",
      "60000/60000 [==============================] - 9s 152us/step - loss: 0.0723 - acc: 0.9729\n",
      "Epoch 72/100\n",
      "60000/60000 [==============================] - 9s 152us/step - loss: 0.0704 - acc: 0.9737\n",
      "Epoch 73/100\n",
      "60000/60000 [==============================] - 9s 151us/step - loss: 0.0694 - acc: 0.9737\n",
      "Epoch 74/100\n",
      "60000/60000 [==============================] - 9s 151us/step - loss: 0.0686 - acc: 0.9741\n",
      "Epoch 75/100\n",
      "60000/60000 [==============================] - 9s 153us/step - loss: 0.0689 - acc: 0.9745\n",
      "Epoch 76/100\n",
      "60000/60000 [==============================] - 9s 154us/step - loss: 0.0665 - acc: 0.9748\n",
      "Epoch 77/100\n",
      "60000/60000 [==============================] - 9s 152us/step - loss: 0.0679 - acc: 0.9743\n",
      "Epoch 78/100\n",
      "60000/60000 [==============================] - 9s 152us/step - loss: 0.0693 - acc: 0.9745\n",
      "Epoch 79/100\n",
      "60000/60000 [==============================] - 9s 156us/step - loss: 0.0641 - acc: 0.9760\n",
      "Epoch 80/100\n",
      "60000/60000 [==============================] - 9s 155us/step - loss: 0.0630 - acc: 0.9765\n",
      "Epoch 81/100\n",
      "60000/60000 [==============================] - 10s 159us/step - loss: 0.0635 - acc: 0.9762\n",
      "Epoch 82/100\n",
      "60000/60000 [==============================] - 9s 151us/step - loss: 0.0635 - acc: 0.9753\n",
      "Epoch 83/100\n",
      "60000/60000 [==============================] - 9s 153us/step - loss: 0.0611 - acc: 0.9769\n",
      "Epoch 84/100\n",
      "60000/60000 [==============================] - 9s 154us/step - loss: 0.0622 - acc: 0.9765\n",
      "Epoch 85/100\n",
      "60000/60000 [==============================] - 9s 149us/step - loss: 0.0608 - acc: 0.9776\n",
      "Epoch 86/100\n",
      "60000/60000 [==============================] - 9s 153us/step - loss: 0.0608 - acc: 0.9769\n",
      "Epoch 87/100\n",
      "60000/60000 [==============================] - 9s 152us/step - loss: 0.0598 - acc: 0.9785\n",
      "Epoch 88/100\n",
      "60000/60000 [==============================] - 9s 152us/step - loss: 0.0598 - acc: 0.9776\n",
      "Epoch 89/100\n",
      "60000/60000 [==============================] - 9s 157us/step - loss: 0.0581 - acc: 0.9783\n",
      "Epoch 90/100\n",
      "60000/60000 [==============================] - 9s 154us/step - loss: 0.0559 - acc: 0.9792\n",
      "Epoch 91/100\n",
      "60000/60000 [==============================] - 9s 152us/step - loss: 0.0583 - acc: 0.9790\n",
      "Epoch 92/100\n",
      "60000/60000 [==============================] - 9s 154us/step - loss: 0.0590 - acc: 0.9780\n",
      "Epoch 93/100\n",
      "60000/60000 [==============================] - 9s 156us/step - loss: 0.0532 - acc: 0.9802\n",
      "Epoch 94/100\n",
      "60000/60000 [==============================] - 9s 152us/step - loss: 0.0549 - acc: 0.9791\n",
      "Epoch 95/100\n",
      "60000/60000 [==============================] - 9s 152us/step - loss: 0.0554 - acc: 0.9789\n",
      "Epoch 96/100\n",
      "60000/60000 [==============================] - 9s 154us/step - loss: 0.0520 - acc: 0.9804\n",
      "Epoch 97/100\n",
      "60000/60000 [==============================] - 9s 154us/step - loss: 0.0538 - acc: 0.9798\n",
      "Epoch 98/100\n",
      "60000/60000 [==============================] - 9s 151us/step - loss: 0.0518 - acc: 0.9807\n",
      "Epoch 99/100\n",
      "60000/60000 [==============================] - 9s 156us/step - loss: 0.0512 - acc: 0.9810\n",
      "Epoch 100/100\n",
      "60000/60000 [==============================] - 9s 154us/step - loss: 0.0505 - acc: 0.9810\n"
     ]
    },
    {
     "data": {
      "text/plain": [
       "<tensorflow.python.keras.callbacks.History at 0x213eee97eb8>"
      ]
     },
     "execution_count": 79,
     "metadata": {},
     "output_type": "execute_result"
    }
   ],
   "source": [
    "model.fit(train_image, train_lable, epochs=100)"
   ]
  },
  {
   "cell_type": "code",
   "execution_count": 80,
   "metadata": {},
   "outputs": [
    {
     "name": "stdout",
     "output_type": "stream",
     "text": [
      "10000/10000 [==============================] - 11s 1ms/step\n"
     ]
    },
    {
     "data": {
      "text/plain": [
       "[0.6688303276136518, 0.8851]"
      ]
     },
     "execution_count": 80,
     "metadata": {},
     "output_type": "execute_result"
    }
   ],
   "source": [
    "model.evaluate(test_image, test_lable)"
   ]
  },
  {
   "cell_type": "markdown",
   "metadata": {},
   "source": [
    "## one-hot encode"
   ]
  },
  {
   "cell_type": "code",
   "execution_count": 6,
   "metadata": {},
   "outputs": [],
   "source": [
    "train_lable_onehot = keras.utils.to_categorical(train_lable)\n",
    "test_lable_onehot = keras.utils.to_categorical(test_lable)\n",
    "\n",
    "model = keras.Sequential()\n",
    "model.add(keras.layers.Flatten(input_shape=(28,28)))\n",
    "model.add(keras.layers.Dense(128, activation='relu'))\n",
    "model.add(keras.layers.Dense(10, activation='softmax'))\n",
    "model.compile(optimizer='adam',\n",
    "             loss='categorical_crossentropy',#用于连续编码而非one hot编码的情况\n",
    "             metrics=['acc']\n",
    ")"
   ]
  },
  {
   "cell_type": "code",
   "execution_count": 16,
   "metadata": {
    "scrolled": true
   },
   "outputs": [
    {
     "name": "stdout",
     "output_type": "stream",
     "text": [
      "Epoch 1/5\n",
      "60000/60000 [==============================] - 15s 254us/sample - loss: 0.1529 - acc: 0.9417\n",
      "Epoch 2/5\n",
      "60000/60000 [==============================] - 15s 255us/sample - loss: 0.1461 - acc: 0.9438\n",
      "Epoch 3/5\n",
      "60000/60000 [==============================] - 15s 253us/sample - loss: 0.1437 - acc: 0.9451\n",
      "Epoch 4/5\n",
      "60000/60000 [==============================] - 15s 255us/sample - loss: 0.1399 - acc: 0.9468\n",
      "Epoch 5/5\n",
      "60000/60000 [==============================] - 15s 254us/sample - loss: 0.1378 - acc: 0.9488\n"
     ]
    }
   ],
   "source": [
    "history = model.fit(train_image, train_lable_onehot, epochs=5)"
   ]
  },
  {
   "cell_type": "code",
   "execution_count": 17,
   "metadata": {},
   "outputs": [
    {
     "data": {
      "text/plain": [
       "[<matplotlib.lines.Line2D at 0x7eacde75f8>]"
      ]
     },
     "execution_count": 17,
     "metadata": {},
     "output_type": "execute_result"
    },
    {
     "data": {
      "image/png": "[encoded data removed]",
      "text/plain": [
       "<Figure size 432x288 with 1 Axes>"
      ]
     },
     "metadata": {
      "needs_background": "light"
     },
     "output_type": "display_data"
    }
   ],
   "source": [
    "plt.plot(history.epoch, history.history.get('acc'))"
   ]
  },
  {
   "cell_type": "code",
   "execution_count": 20,
   "metadata": {},
   "outputs": [
    {
     "name": "stdout",
     "output_type": "stream",
     "text": [
      "10000/10000 [==============================] - 2s 181us/sample - loss: 0.4072 - acc: 0.8904\n"
     ]
    },
    {
     "data": {
      "text/plain": [
       "[0.4072081738948822, 0.8904]"
      ]
     },
     "execution_count": 20,
     "metadata": {},
     "output_type": "execute_result"
    }
   ],
   "source": [
    "model.evaluate(test_image, test_lable_onehot)"
   ]
  },
  {
   "cell_type": "code",
   "execution_count": 33,
   "metadata": {},
   "outputs": [
    {
     "data": {
      "text/plain": [
       "9"
      ]
     },
     "execution_count": 33,
     "metadata": {},
     "output_type": "execute_result"
    }
   ],
   "source": [
    "np.argmax(model.predict(test_image[:1]))"
   ]
  },
  {
   "cell_type": "markdown",
   "metadata": {},
   "source": [
    "## Dropout"
   ]
  },
  {
   "cell_type": "code",
   "execution_count": 3,
   "metadata": {},
   "outputs": [
    {
     "name": "stdout",
     "output_type": "stream",
     "text": [
      "WARNING:tensorflow:From /usr/local/lib/python3.6/dist-packages/tensorflow/python/ops/init_ops.py:1251: calling VarianceScaling.__init__ (from tensorflow.python.ops.init_ops) with dtype is deprecated and will be removed in a future version.\n",
      "Instructions for updating:\n",
      "Call initializer instance with the dtype argument instead of passing it to the constructor\n",
      "Model: \"sequential\"\n",
      "_________________________________________________________________\n",
      "Layer (type)                 Output Shape              Param #   \n",
      "=================================================================\n",
      "conv2d (Conv2D)              (None, 26, 26, 32)        320       \n",
      "_________________________________________________________________\n",
      "conv2d_1 (Conv2D)            (None, 24, 24, 64)        18496     \n",
      "_________________________________________________________________\n",
      "max_pooling2d (MaxPooling2D) (None, 12, 12, 64)        0         \n",
      "_________________________________________________________________\n",
      "dropout (Dropout)            (None, 12, 12, 64)        0         \n",
      "_________________________________________________________________\n",
      "flatten (Flatten)            (None, 9216)              0         \n",
      "_________________________________________________________________\n",
      "dense (Dense)                (None, 128)               1179776   \n",
      "_________________________________________________________________\n",
      "dropout_1 (Dropout)          (None, 128)               0         \n",
      "_________________________________________________________________\n",
      "dense_1 (Dense)              (None, 10)                1290      \n",
      "=================================================================\n",
      "Total params: 1,199,882\n",
      "Trainable params: 1,199,882\n",
      "Non-trainable params: 0\n",
      "_________________________________________________________________\n"
     ]
    }
   ],
   "source": [
    "(train_image, train_lable), (test_image, test_lable) = keras.datasets.fashion_mnist.load_data()\n",
    "train_image = train_image.reshape(train_image.shape[0], 28, 28, 1)\n",
    "test_image = test_image.reshape(test_image.shape[0], 28, 28, 1)\n",
    "train_image = train_image/255\n",
    "test_image = test_image/255\n",
    "train_lable_onehot = keras.utils.to_categorical(train_lable)\n",
    "test_lable_onehot = keras.utils.to_categorical(test_lable)\n",
    "\n",
    "model = keras.Sequential()\n",
    "model.add(keras.layers.Conv2D(32, kernel_size=(3, 3),\n",
    "                 activation='relu',\n",
    "                 input_shape=(28,28,1)))\n",
    "model.add(keras.layers.Conv2D(64, (3, 3), activation='relu'))\n",
    "model.add(keras.layers.MaxPooling2D(pool_size=(2, 2)))\n",
    "model.add(keras.layers.Dropout(0.25))\n",
    "model.add(keras.layers.Flatten())\n",
    "model.add(keras.layers.Dense(128, activation='relu'))\n",
    "model.add(keras.layers.Dropout(0.5))\n",
    "model.add(keras.layers.Dense(10, activation='softmax'))\n",
    "model.summary()"
   ]
  },
  {
   "cell_type": "code",
   "execution_count": 4,
   "metadata": {
    "scrolled": true
   },
   "outputs": [
    {
     "name": "stdout",
     "output_type": "stream",
     "text": [
      "Train on 60000 samples, validate on 10000 samples\n",
      "Epoch 1/10\n",
      "60000/60000 [==============================] - 82s 1ms/sample - loss: 0.4967 - acc: 0.8263 - val_loss: 0.3102 - val_acc: 0.8856\n",
      "Epoch 2/10\n",
      "60000/60000 [==============================] - 79s 1ms/sample - loss: 0.3297 - acc: 0.8809 - val_loss: 0.2736 - val_acc: 0.8996\n",
      "Epoch 3/10\n",
      "60000/60000 [==============================] - 78s 1ms/sample - loss: 0.2786 - acc: 0.8996 - val_loss: 0.2512 - val_acc: 0.9101\n",
      "Epoch 4/10\n",
      "60000/60000 [==============================] - 79s 1ms/sample - loss: 0.2512 - acc: 0.9096 - val_loss: 0.2404 - val_acc: 0.9137\n",
      "Epoch 5/10\n",
      "60000/60000 [==============================] - 79s 1ms/sample - loss: 0.2279 - acc: 0.9161 - val_loss: 0.2227 - val_acc: 0.9203\n",
      "Epoch 6/10\n",
      "60000/60000 [==============================] - 79s 1ms/sample - loss: 0.2091 - acc: 0.9227 - val_loss: 0.2262 - val_acc: 0.9199\n",
      "Epoch 7/10\n",
      "60000/60000 [==============================] - 78s 1ms/sample - loss: 0.1955 - acc: 0.9269 - val_loss: 0.2312 - val_acc: 0.9210\n",
      "Epoch 8/10\n",
      "60000/60000 [==============================] - 78s 1ms/sample - loss: 0.1819 - acc: 0.9312 - val_loss: 0.2215 - val_acc: 0.9242\n",
      "Epoch 9/10\n",
      "60000/60000 [==============================] - 78s 1ms/sample - loss: 0.1646 - acc: 0.9389 - val_loss: 0.2397 - val_acc: 0.9156\n",
      "Epoch 10/10\n",
      "60000/60000 [==============================] - 79s 1ms/sample - loss: 0.1629 - acc: 0.9384 - val_loss: 0.2270 - val_acc: 0.9228\n"
     ]
    }
   ],
   "source": [
    "model.compile(optimizer=keras.optimizers.Adadelta(),\n",
    "             loss='categorical_crossentropy',#用于连续编码而非one hot编码的情况\n",
    "             metrics=['acc'] \n",
    ")\n",
    "history = model.fit(train_image, train_lable_onehot,\n",
    "                    batch_size=128,\n",
    "                    epochs=10,\n",
    "                    validation_data=(test_image, test_lable_onehot))"
   ]
  },
  {
   "cell_type": "code",
   "execution_count": 5,
   "metadata": {},
   "outputs": [
    {
     "data": {
      "text/plain": [
       "dict_keys(['loss', 'acc', 'val_loss', 'val_acc'])"
      ]
     },
     "execution_count": 5,
     "metadata": {},
     "output_type": "execute_result"
    }
   ],
   "source": [
    "history.history.keys()"
   ]
  },
  {
   "cell_type": "code",
   "execution_count": 6,
   "metadata": {},
   "outputs": [
    {
     "data": {
      "text/plain": [
       "<matplotlib.legend.Legend at 0x7f4804c438>"
      ]
     },
     "execution_count": 6,
     "metadata": {},
     "output_type": "execute_result"
    },
    {
     "data": {
      "image/png": "[encoded data removed]",
      "text/plain": [
       "<Figure size 432x288 with 1 Axes>"
      ]
     },
     "metadata": {
      "needs_background": "light"
     },
     "output_type": "display_data"
    }
   ],
   "source": [
    "plt.plot(history.epoch, history.history.get('acc'), label='acc')\n",
    "plt.plot(history.epoch, history.history.get('val_acc'), label='val_acc')\n",
    "plt.legend()"
   ]
  },
  {
   "cell_type": "code",
   "execution_count": 7,
   "metadata": {},
   "outputs": [
    {
     "name": "stdout",
     "output_type": "stream",
     "text": [
      "10000/10000 [==============================] - 4s 416us/sample - loss: 0.2270 - acc: 0.9228\n"
     ]
    },
    {
     "data": {
      "text/plain": [
       "[0.2269592310398817, 0.9228]"
      ]
     },
     "execution_count": 7,
     "metadata": {},
     "output_type": "execute_result"
    }
   ],
   "source": [
    "model.evaluate(test_image, test_lable_onehot)"
   ]
  },
  {
   "cell_type": "code",
   "execution_count": null,
   "metadata": {},
   "outputs": [],
   "source": []
  }
 ],
 "metadata": {
  "kernelspec": {
   "display_name": "Python 3",
   "language": "python",
   "name": "python3"
  },
  "language_info": {
   "codemirror_mode": {
    "name": "ipython",
    "version": 3
   },
   "file_extension": ".py",
   "mimetype": "text/x-python",
   "name": "python",
   "nbconvert_exporter": "python",
   "pygments_lexer": "ipython3",
   "version": "3.6.8"
  }
 },
 "nbformat": 4,
 "nbformat_minor": 4
}
